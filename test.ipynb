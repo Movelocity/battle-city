{
 "cells": [
  {
   "cell_type": "code",
   "execution_count": 1,
   "metadata": {},
   "outputs": [
    {
     "name": "stdout",
     "output_type": "stream",
     "text": [
      "pygame 2.1.0 (SDL 2.0.16, Python 3.9.13)\n",
      "Hello from the pygame community. https://www.pygame.org/contribute.html\n"
     ]
    }
   ],
   "source": [
    "import pygame\n",
    "\n",
    "sprites = pygame.transform.scale(\n",
    "\tpygame.image.load(\"images/sprites.gif\"), [192, 224]\n",
    ")\n",
    "\n",
    "bricks = sprites.subsurface(56*2, 64*2, 8*2, 8*2)\n",
    "\n",
    "brick1 = bricks.subsurface((0, 0, 8, 8))\n",
    "brick2 = bricks.subsurface((8, 0, 8, 8))\n",
    "brick3 = bricks.subsurface((8, 8, 8, 8))\n",
    "brick4 = bricks.subsurface((0, 8, 8, 8))"
   ]
  },
  {
   "cell_type": "code",
   "execution_count": 2,
   "metadata": {},
   "outputs": [
    {
     "name": "stdout",
     "output_type": "stream",
     "text": [
      "Help on Surface object:\n",
      "\n",
      "class Surface(builtins.object)\n",
      " |  Surface((width, height), flags=0, depth=0, masks=None) -> Surface\n",
      " |  Surface((width, height), flags=0, Surface) -> Surface\n",
      " |  pygame object for representing images\n",
      " |  \n",
      " |  Methods defined here:\n",
      " |  \n",
      " |  __copy__(...)\n",
      " |      copy() -> Surface\n",
      " |      create a new copy of a Surface\n",
      " |  \n",
      " |  __init__(self, /, *args, **kwargs)\n",
      " |      Initialize self.  See help(type(self)) for accurate signature.\n",
      " |  \n",
      " |  __repr__(self, /)\n",
      " |      Return repr(self).\n",
      " |  \n",
      " |  blit(...)\n",
      " |      blit(source, dest, area=None, special_flags=0) -> Rect\n",
      " |      draw one image onto another\n",
      " |  \n",
      " |  blits(...)\n",
      " |      blits(blit_sequence=((source, dest), ...), doreturn=1) -> [Rect, ...] or None\n",
      " |      blits(((source, dest, area), ...)) -> [Rect, ...]\n",
      " |      blits(((source, dest, area, special_flags), ...)) -> [Rect, ...]\n",
      " |      draw many images onto another\n",
      " |  \n",
      " |  convert(...)\n",
      " |      convert(Surface=None) -> Surface\n",
      " |      convert(depth, flags=0) -> Surface\n",
      " |      convert(masks, flags=0) -> Surface\n",
      " |      change the pixel format of an image\n",
      " |  \n",
      " |  convert_alpha(...)\n",
      " |      convert_alpha(Surface) -> Surface\n",
      " |      convert_alpha() -> Surface\n",
      " |      change the pixel format of an image including per pixel alphas\n",
      " |  \n",
      " |  copy(...)\n",
      " |      copy() -> Surface\n",
      " |      create a new copy of a Surface\n",
      " |  \n",
      " |  fill(...)\n",
      " |      fill(color, rect=None, special_flags=0) -> Rect\n",
      " |      fill Surface with a solid color\n",
      " |  \n",
      " |  get_abs_offset(...)\n",
      " |      get_abs_offset() -> (x, y)\n",
      " |      find the absolute position of a child subsurface inside its top level parent\n",
      " |  \n",
      " |  get_abs_parent(...)\n",
      " |      get_abs_parent() -> Surface\n",
      " |      find the top level parent of a subsurface\n",
      " |  \n",
      " |  get_alpha(...)\n",
      " |      get_alpha() -> int_value\n",
      " |      get the current Surface transparency value\n",
      " |  \n",
      " |  get_at(...)\n",
      " |      get_at((x, y)) -> Color\n",
      " |      get the color value at a single pixel\n",
      " |  \n",
      " |  get_at_mapped(...)\n",
      " |      get_at_mapped((x, y)) -> Color\n",
      " |      get the mapped color value at a single pixel\n",
      " |  \n",
      " |  get_bitsize(...)\n",
      " |      get_bitsize() -> int\n",
      " |      get the bit depth of the Surface pixel format\n",
      " |  \n",
      " |  get_blendmode(...)\n",
      " |      Return the surface's SDL 2 blend mode\n",
      " |  \n",
      " |  get_bounding_rect(...)\n",
      " |      get_bounding_rect(min_alpha = 1) -> Rect\n",
      " |      find the smallest rect containing data\n",
      " |  \n",
      " |  get_buffer(...)\n",
      " |      get_buffer() -> BufferProxy\n",
      " |      acquires a buffer object for the pixels of the Surface.\n",
      " |  \n",
      " |  get_bytesize(...)\n",
      " |      get_bytesize() -> int\n",
      " |      get the bytes used per Surface pixel\n",
      " |  \n",
      " |  get_clip(...)\n",
      " |      get_clip() -> Rect\n",
      " |      get the current clipping area of the Surface\n",
      " |  \n",
      " |  get_colorkey(...)\n",
      " |      get_colorkey() -> RGB or None\n",
      " |      Get the current transparent colorkey\n",
      " |  \n",
      " |  get_flags(...)\n",
      " |      get_flags() -> int\n",
      " |      get the additional flags used for the Surface\n",
      " |  \n",
      " |  get_height(...)\n",
      " |      get_height() -> height\n",
      " |      get the height of the Surface\n",
      " |  \n",
      " |  get_locked(...)\n",
      " |      get_locked() -> bool\n",
      " |      test if the Surface is current locked\n",
      " |  \n",
      " |  get_locks(...)\n",
      " |      get_locks() -> tuple\n",
      " |      Gets the locks for the Surface\n",
      " |  \n",
      " |  get_losses(...)\n",
      " |      get_losses() -> (R, G, B, A)\n",
      " |      the significant bits used to convert between a color and a mapped integer\n",
      " |  \n",
      " |  get_masks(...)\n",
      " |      get_masks() -> (R, G, B, A)\n",
      " |      the bitmasks needed to convert between a color and a mapped integer\n",
      " |  \n",
      " |  get_offset(...)\n",
      " |      get_offset() -> (x, y)\n",
      " |      find the position of a child subsurface inside a parent\n",
      " |  \n",
      " |  get_palette(...)\n",
      " |      get_palette() -> [RGB, RGB, RGB, ...]\n",
      " |      get the color index palette for an 8-bit Surface\n",
      " |  \n",
      " |  get_palette_at(...)\n",
      " |      get_palette_at(index) -> RGB\n",
      " |      get the color for a single entry in a palette\n",
      " |  \n",
      " |  get_parent(...)\n",
      " |      get_parent() -> Surface\n",
      " |      find the parent of a subsurface\n",
      " |  \n",
      " |  get_pitch(...)\n",
      " |      get_pitch() -> int\n",
      " |      get the number of bytes used per Surface row\n",
      " |  \n",
      " |  get_rect(...)\n",
      " |      get_rect(**kwargs) -> Rect\n",
      " |      get the rectangular area of the Surface\n",
      " |  \n",
      " |  get_shifts(...)\n",
      " |      get_shifts() -> (R, G, B, A)\n",
      " |      the bit shifts needed to convert between a color and a mapped integer\n",
      " |  \n",
      " |  get_size(...)\n",
      " |      get_size() -> (width, height)\n",
      " |      get the dimensions of the Surface\n",
      " |  \n",
      " |  get_view(...)\n",
      " |      get_view(<kind>='2') -> BufferProxy\n",
      " |      return a buffer view of the Surface's pixels.\n",
      " |  \n",
      " |  get_width(...)\n",
      " |      get_width() -> width\n",
      " |      get the width of the Surface\n",
      " |  \n",
      " |  lock(...)\n",
      " |      lock() -> None\n",
      " |      lock the Surface memory for pixel access\n",
      " |  \n",
      " |  map_rgb(...)\n",
      " |      map_rgb(Color) -> mapped_int\n",
      " |      convert a color into a mapped color value\n",
      " |  \n",
      " |  mustlock(...)\n",
      " |      mustlock() -> bool\n",
      " |      test if the Surface requires locking\n",
      " |  \n",
      " |  scroll(...)\n",
      " |      scroll(dx=0, dy=0) -> None\n",
      " |      Shift the surface image in place\n",
      " |  \n",
      " |  set_alpha(...)\n",
      " |      set_alpha(value, flags=0) -> None\n",
      " |      set_alpha(None) -> None\n",
      " |      set the alpha value for the full Surface image\n",
      " |  \n",
      " |  set_at(...)\n",
      " |      set_at((x, y), Color) -> None\n",
      " |      set the color value for a single pixel\n",
      " |  \n",
      " |  set_clip(...)\n",
      " |      set_clip(rect) -> None\n",
      " |      set_clip(None) -> None\n",
      " |      set the current clipping area of the Surface\n",
      " |  \n",
      " |  set_colorkey(...)\n",
      " |      set_colorkey(Color, flags=0) -> None\n",
      " |      set_colorkey(None) -> None\n",
      " |      Set the transparent colorkey\n",
      " |  \n",
      " |  set_masks(...)\n",
      " |      set_masks((r,g,b,a)) -> None\n",
      " |      set the bitmasks needed to convert between a color and a mapped integer\n",
      " |  \n",
      " |  set_palette(...)\n",
      " |      set_palette([RGB, RGB, RGB, ...]) -> None\n",
      " |      set the color palette for an 8-bit Surface\n",
      " |  \n",
      " |  set_palette_at(...)\n",
      " |      set_palette_at(index, RGB) -> None\n",
      " |      set the color for a single index in an 8-bit Surface palette\n",
      " |  \n",
      " |  set_shifts(...)\n",
      " |      set_shifts((r,g,b,a)) -> None\n",
      " |      sets the bit shifts needed to convert between a color and a mapped integer\n",
      " |  \n",
      " |  subsurface(...)\n",
      " |      subsurface(Rect) -> Surface\n",
      " |      create a new surface that references its parent\n",
      " |  \n",
      " |  unlock(...)\n",
      " |      unlock() -> None\n",
      " |      unlock the Surface memory from pixel access\n",
      " |  \n",
      " |  unmap_rgb(...)\n",
      " |      unmap_rgb(mapped_int) -> Color\n",
      " |      convert a mapped integer color value into a Color\n",
      " |  \n",
      " |  ----------------------------------------------------------------------\n",
      " |  Static methods defined here:\n",
      " |  \n",
      " |  __new__(*args, **kwargs) from builtins.type\n",
      " |      Create and return a new object.  See help(type) for accurate signature.\n",
      "\n"
     ]
    }
   ],
   "source": [
    "help(brick4)"
   ]
  },
  {
   "cell_type": "code",
   "execution_count": 4,
   "metadata": {},
   "outputs": [
    {
     "data": {
      "text/plain": [
       "8"
      ]
     },
     "execution_count": 4,
     "metadata": {},
     "output_type": "execute_result"
    }
   ],
   "source": [
    "brick4.get_height()"
   ]
  },
  {
   "cell_type": "code",
   "execution_count": null,
   "metadata": {},
   "outputs": [],
   "source": [
    "import matplotlib.pyplot as plt\n",
    "import numpy as np"
   ]
  },
  {
   "cell_type": "code",
   "execution_count": 12,
   "metadata": {},
   "outputs": [
    {
     "name": "stdout",
     "output_type": "stream",
     "text": [
      "(192, 224, 3)\n"
     ]
    },
    {
     "data": {
      "image/png": "[encoded data removed]",
      "text/plain": [
       "<Figure size 400x300 with 1 Axes>"
      ]
     },
     "metadata": {},
     "output_type": "display_data"
    }
   ],
   "source": [
    "target = sprites\n",
    "\n",
    "width = target.get_width()\n",
    "height = target.get_height()\n",
    "\n",
    "current_buffer = np.array([[[0, 0, 0] for _ in range(height)] for _ in range(width)])\n",
    "print(current_buffer.shape)\n",
    "pygame.pixelcopy.surface_to_array(current_buffer, target)\n",
    "\n",
    "plt.figure(figsize=(4,3))\n",
    "plt.imshow(current_buffer)\n",
    "plt.show()"
   ]
  },
  {
   "cell_type": "code",
   "execution_count": 17,
   "metadata": {},
   "outputs": [],
   "source": [
    "def chunks(l, n):\n",
    "\t\"\"\" 把输入字符按n个一组切分\n",
    "\t\"\"\"\n",
    "\treturn [l[i:i+n] for i in range(0, len(l), n)]\n",
    "\n",
    "binstr = \"\"\n",
    "for h in chunks(\"0071b63c7ff1e3\", 2):\n",
    "\tbinstr += str(bin(int(h, 16)))[2:].rjust(8, \"0\")\n",
    "binstr = binstr[7:]\n",
    "\n",
    "x, y = 0, 0\n",
    "letter_w = 0\n",
    "surf_letter = pygame.Surface((56, 56))\n",
    "for j, row in enumerate(chunks(binstr, 7)):\n",
    "\tfor i, bit in enumerate(row):\n",
    "\t\tif bit == \"1\":\n",
    "\t\t\tif i%2 == 0 and j%2 == 0:\n",
    "\t\t\t\tsurf_letter.blit(brick1, [x, y])\n",
    "\t\t\telif i%2 == 1 and j%2 == 0:\n",
    "\t\t\t\tsurf_letter.blit(brick2, [x, y])\n",
    "\t\t\telif i%2 == 1 and j%2 == 1:\n",
    "\t\t\t\tsurf_letter.blit(brick3, [x, y])\n",
    "\t\t\telif i%2 == 0 and j%2 == 1:\n",
    "\t\t\t\tsurf_letter.blit(brick4, [x, y])\n",
    "\t\t\tif x > letter_w:\n",
    "\t\t\t\tletter_w = x\n",
    "\t\tx += 8\n",
    "\tx = 0\n",
    "\ty += 8\n"
   ]
  },
  {
   "cell_type": "code",
   "execution_count": 20,
   "metadata": {},
   "outputs": [
    {
     "name": "stdout",
     "output_type": "stream",
     "text": [
      "(56, 56, 3)\n"
     ]
    },
    {
     "data": {
      "image/png": "[encoded data removed]",
      "text/plain": [
       "<Figure size 400x300 with 1 Axes>"
      ]
     },
     "metadata": {},
     "output_type": "display_data"
    }
   ],
   "source": [
    "target = surf_letter\n",
    "\n",
    "width = target.get_width()\n",
    "height = target.get_height()\n",
    "\n",
    "current_buffer = np.array([[[0, 0, 0] for _ in range(height)] for _ in range(width)])\n",
    "print(current_buffer.shape)\n",
    "pygame.pixelcopy.surface_to_array(current_buffer, target)\n",
    "\n",
    "plt.figure(figsize=(4,3))\n",
    "plt.imshow(current_buffer)\n",
    "plt.show()"
   ]
  },
  {
   "cell_type": "code",
   "execution_count": 1,
   "metadata": {},
   "outputs": [
    {
     "name": "stdout",
     "output_type": "stream",
     "text": [
      "pygame 2.1.0 (SDL 2.0.16, Python 3.9.13)\n",
      "Hello from the pygame community. https://www.pygame.org/contribute.html\n"
     ]
    }
   ],
   "source": [
    "from game import Game\n",
    "\n",
    "env = Game(robot=True)"
   ]
  },
  {
   "cell_type": "code",
   "execution_count": 2,
   "metadata": {},
   "outputs": [
    {
     "data": {
      "image/png": "[encoded data removed]",
      "text/plain": [
       "<Figure size 640x480 with 1 Axes>"
      ]
     },
     "metadata": {},
     "output_type": "display_data"
    },
    {
     "ename": "KeyboardInterrupt",
     "evalue": "",
     "output_type": "error",
     "traceback": [
      "\u001b[1;31m---------------------------------------------------------------------------\u001b[0m",
      "\u001b[1;31mKeyboardInterrupt\u001b[0m                         Traceback (most recent call last)",
      "\u001b[1;32m~\\AppData\\Local\\Temp\\ipykernel_11948\\1851995243.py\u001b[0m in \u001b[0;36m<module>\u001b[1;34m\u001b[0m\n\u001b[0;32m     14\u001b[0m                 \u001b[1;31m# plt.savefig('./images/outputs/{:0>3d}.png'.format(j))\u001b[0m\u001b[1;33m\u001b[0m\u001b[1;33m\u001b[0m\u001b[0m\n\u001b[0;32m     15\u001b[0m                 \u001b[0mplt\u001b[0m\u001b[1;33m.\u001b[0m\u001b[0mshow\u001b[0m\u001b[1;33m(\u001b[0m\u001b[1;33m)\u001b[0m\u001b[1;33m\u001b[0m\u001b[1;33m\u001b[0m\u001b[0m\n\u001b[1;32m---> 16\u001b[1;33m                 \u001b[0mtime\u001b[0m\u001b[1;33m.\u001b[0m\u001b[0msleep\u001b[0m\u001b[1;33m(\u001b[0m\u001b[1;36m0.5\u001b[0m\u001b[1;33m)\u001b[0m\u001b[1;33m\u001b[0m\u001b[1;33m\u001b[0m\u001b[0m\n\u001b[0m\u001b[0;32m     17\u001b[0m                 \u001b[1;32mif\u001b[0m \u001b[0mdone\u001b[0m\u001b[1;33m:\u001b[0m\u001b[1;33m\u001b[0m\u001b[1;33m\u001b[0m\u001b[0m\n\u001b[0;32m     18\u001b[0m                         \u001b[1;32mbreak\u001b[0m\u001b[1;33m\u001b[0m\u001b[1;33m\u001b[0m\u001b[0m\n",
      "\u001b[1;31mKeyboardInterrupt\u001b[0m: "
     ]
    }
   ],
   "source": [
    "from IPython import display\n",
    "import matplotlib.pyplot as plt\n",
    "import numpy as np\n",
    "import time\n",
    "\n",
    "for i in range(1):\n",
    "\tstate = env.reset(1)\n",
    "\tfor j in range(500):\n",
    "\t\tdisplay.clear_output(wait=True)\n",
    "\t\t# print(state)\n",
    "\t\tstate, reward, done = env.step(0)\n",
    "\t\tplt.imshow(state)\n",
    "\t\tplt.title(f\"steps: {j}  score: {reward}\")\n",
    "\t\t# plt.savefig('./images/outputs/{:0>3d}.png'.format(j))\n",
    "\t\tplt.show()\n",
    "\t\ttime.sleep(0.5)\n",
    "\t\tif done:\n",
    "\t\t\tbreak "
   ]
  },
  {
   "cell_type": "code",
   "execution_count": 2,
   "metadata": {},
   "outputs": [
    {
     "name": "stdout",
     "output_type": "stream",
     "text": [
      "1 2 3 4\n"
     ]
    }
   ],
   "source": []
  }
 ],
 "metadata": {
  "kernelspec": {
   "display_name": "base",
   "language": "python",
   "name": "python3"
  },
  "language_info": {
   "codemirror_mode": {
    "name": "ipython",
    "version": 3
   },
   "file_extension": ".py",
   "mimetype": "text/x-python",
   "name": "python",
   "nbconvert_exporter": "python",
   "pygments_lexer": "ipython3",
   "version": "3.9.13"
  },
  "orig_nbformat": 4
 },
 "nbformat": 4,
 "nbformat_minor": 2
}
